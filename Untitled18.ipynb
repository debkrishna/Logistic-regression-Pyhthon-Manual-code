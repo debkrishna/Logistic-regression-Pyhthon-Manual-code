{
 "cells": [
  {
   "cell_type": "markdown",
   "metadata": {},
   "source": [
    "# Logistic Regression"
   ]
  },
  {
   "cell_type": "code",
   "execution_count": 7,
   "metadata": {},
   "outputs": [],
   "source": [
    "import pandas as pd\n",
    "import numpy as np\n",
    "from scipy import linalg\n",
    "xx=pd.read_csv(\"C:\\\\Users\\\\DEBKRISHNA\\\\Downloads\\\\binary.csv\")\n",
    "def sigmoid(p):\n",
    "    k=np.exp(p)/(1+np.exp(p))\n",
    "    return(k)\n",
    "y=xx.iloc[:,0]\n",
    "n=len(y)\n",
    "one=pd.DataFrame({'a':1},index=range(n))\n",
    "X=pd.concat([one,xx.iloc[:,1],xx.iloc[:,2]],axis=1)\n",
    "Ba=np.dot((np.linalg.inv((np.dot(X.transpose(),X)))),(np.dot(X.transpose(),(y))))\n",
    "def itr(Ba):\n",
    "    u=[]\n",
    "    for i in range(0,n):\n",
    "        u.append(sigmoid(np.dot(Ba.transpose(),X.iloc[i])))\n",
    "    r=[x*(1-x) for x in u]\n",
    "    S=np.diag(r)\n",
    "    return[(u,S)]\n",
    "ic=0\n",
    "eps=1\n",
    "while ic<100 and eps>0.000001:\n",
    "    BOLD=np.linalg.inv(X.transpose().dot(itr(Ba)[0][1]).dot(X)).dot(X.transpose()).dot((itr(Ba)[0][1].dot(X).dot(Ba))+y-itr(Ba)[0][0])\n",
    "    BNEW=np.linalg.inv(X.transpose().dot(itr(BOLD)[0][1]).dot(X)).dot(X.transpose()).dot((itr(BOLD)[0][1].dot(X).dot(BOLD))+y-itr(BOLD)[0][0])\n",
    "    eps=(BNEW.transpose().dot(BNEW))-(BOLD.transpose().dot(BOLD))\n",
    "    BOLD=BNEW\n",
    "    ic=ic+1\n",
    "\n",
    "    "
   ]
  },
  {
   "cell_type": "markdown",
   "metadata": {},
   "source": [
    "The regression coefficient is:"
   ]
  },
  {
   "cell_type": "code",
   "execution_count": 8,
   "metadata": {
    "scrolled": true
   },
   "outputs": [
    {
     "data": {
      "text/plain": [
       "array([-4.91412715e+00,  2.66953429e-03,  7.48844402e-01])"
      ]
     },
     "execution_count": 8,
     "metadata": {},
     "output_type": "execute_result"
    }
   ],
   "source": [
    "BOLD"
   ]
  }
 ],
 "metadata": {
  "kernelspec": {
   "display_name": "Python 3",
   "language": "python",
   "name": "python3"
  },
  "language_info": {
   "codemirror_mode": {
    "name": "ipython",
    "version": 3
   },
   "file_extension": ".py",
   "mimetype": "text/x-python",
   "name": "python",
   "nbconvert_exporter": "python",
   "pygments_lexer": "ipython3",
   "version": "3.7.4"
  }
 },
 "nbformat": 4,
 "nbformat_minor": 2
}
